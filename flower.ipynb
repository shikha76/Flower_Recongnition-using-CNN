{
  "cells": [
    {
      "cell_type": "markdown",
      "metadata": {
        "id": "view-in-github",
        "colab_type": "text"
      },
      "source": [
        "<a href=\"https://colab.research.google.com/github/shikha76/Flower_Recongnition-using-CNN/blob/main/flower.ipynb\" target=\"_parent\"><img src=\"https://colab.research.google.com/assets/colab-badge.svg\" alt=\"Open In Colab\"/></a>"
      ]
    },
    {
      "cell_type": "code",
      "execution_count": null,
      "metadata": {
        "id": "HsebyCrm7eSV"
      },
      "outputs": [],
      "source": [
        "import matplotlib.pyplot as plt\n",
        "import numpy as np\n",
        "import os\n",
        "import PIL\n",
        "import tensorflow as tf\n",
        "from tensorflow import keras\n",
        "from tensorflow.keras import layers\n",
        "from tensorflow.keras.models import Sequential"
      ]
    },
    {
      "cell_type": "code",
      "execution_count": null,
      "metadata": {
        "colab": {
          "base_uri": "https://localhost:8080/"
        },
        "id": "5oB9qO7n7eOr",
        "outputId": "eabbfdd0-904f-4a61-97c2-5aaf497d3976"
      },
      "outputs": [
        {
          "name": "stdout",
          "output_type": "stream",
          "text": [
            "Downloading data from https://storage.googleapis.com/download.tensorflow.org/example_images/flower_photos.tgz\n",
            "228813984/228813984 [==============================] - 1s 0us/step\n"
          ]
        }
      ],
      "source": [
        "import pathlib\n",
        "dataset_url = \"https://storage.googleapis.com/download.tensorflow.org/example_images/flower_photos.tgz\"\n",
        "data_dir = tf.keras.utils.get_file('flower_photos', origin=dataset_url, untar=True)\n",
        "data_dir = pathlib.Path(data_dir)"
      ]
    },
    {
      "cell_type": "code",
      "execution_count": null,
      "metadata": {
        "colab": {
          "base_uri": "https://localhost:8080/"
        },
        "id": "HaWeYxas7eL1",
        "outputId": "a228d38e-86a1-4243-ece3-04de4259ea67"
      },
      "outputs": [
        {
          "name": "stdout",
          "output_type": "stream",
          "text": [
            "Found 3670 files belonging to 5 classes.\n",
            "Using 2936 files for training.\n"
          ]
        }
      ],
      "source": [
        "img_height,img_width=180,180\n",
        "batch_size=32\n",
        "train_ds = tf.keras.preprocessing.image_dataset_from_directory(\n",
        "  data_dir,\n",
        "  validation_split=0.2,\n",
        "  subset=\"training\",\n",
        "  seed=123,\n",
        "  image_size=(img_height, img_width),\n",
        "  batch_size=batch_size)"
      ]
    },
    {
      "cell_type": "code",
      "execution_count": null,
      "metadata": {
        "colab": {
          "base_uri": "https://localhost:8080/"
        },
        "id": "j4nd8GrI7eJJ",
        "outputId": "29bcad3e-bcde-4eee-ce26-b8a5845de587"
      },
      "outputs": [
        {
          "name": "stdout",
          "output_type": "stream",
          "text": [
            "Found 3670 files belonging to 5 classes.\n",
            "Using 734 files for validation.\n"
          ]
        }
      ],
      "source": [
        "val_ds = tf.keras.preprocessing.image_dataset_from_directory(\n",
        "  data_dir,\n",
        "  validation_split=0.2,\n",
        "  subset=\"validation\",\n",
        "  seed=123,\n",
        "  image_size=(img_height, img_width),\n",
        "  batch_size=batch_size)"
      ]
    },
    {
      "cell_type": "code",
      "execution_count": null,
      "metadata": {
        "colab": {
          "base_uri": "https://localhost:8080/"
        },
        "id": "IXj1lTZ27d_4",
        "outputId": "e714a249-891f-48df-83d4-96f18e71c77e"
      },
      "outputs": [
        {
          "name": "stdout",
          "output_type": "stream",
          "text": [
            "['daisy', 'dandelion', 'roses', 'sunflowers', 'tulips']\n"
          ]
        }
      ],
      "source": [
        "\n",
        "class_names = train_ds.class_names\n",
        "print(class_names)"
      ]
    },
    {
      "cell_type": "code",
      "execution_count": null,
      "metadata": {
        "id": "zm7m3bfV7d0A"
      },
      "outputs": [],
      "source": [
        "num_classes = 5\n",
        "\n",
        "model = Sequential([\n",
        "  layers.experimental.preprocessing.Rescaling(1./255, input_shape=(img_height, img_width, 3)),\n",
        "  layers.Conv2D(16, 3, padding='same', activation='relu'),\n",
        "  layers.MaxPooling2D(),\n",
        "  layers.Conv2D(32, 3, padding='same', activation='relu'),\n",
        "  layers.MaxPooling2D(),\n",
        "  layers.Conv2D(64, 3, padding='same', activation='relu'),\n",
        "  layers.MaxPooling2D(),\n",
        "  layers.Flatten(),\n",
        "  layers.Dense(128, activation='relu'),\n",
        "  layers.Dense(num_classes,activation='softmax')\n",
        "  layers.Flatten(),\n",
        "])\n"
      ]
    },
    {
      "cell_type": "code",
      "execution_count": null,
      "metadata": {
        "id": "_ZWTovYE7xdN"
      },
      "outputs": [],
      "source": [
        "model.compile(optimizer='adam',\n",
        "              loss=tf.keras.losses.SparseCategoricalCrossentropy(from_logits=True),\n",
        "              metrics=['accuracy'])"
      ]
    },
    {
      "cell_type": "code",
      "execution_count": null,
      "metadata": {
        "colab": {
          "base_uri": "https://localhost:8080/"
        },
        "id": "vDHomJ5U7xYQ",
        "outputId": "02c773af-3e46-404a-f128-56f7535bfd15"
      },
      "outputs": [
        {
          "name": "stdout",
          "output_type": "stream",
          "text": [
            "Epoch 1/10\n"
          ]
        },
        {
          "name": "stderr",
          "output_type": "stream",
          "text": [
            "/usr/local/lib/python3.10/dist-packages/keras/src/backend.py:5727: UserWarning: \"`sparse_categorical_crossentropy` received `from_logits=True`, but the `output` argument was produced by a Softmax activation and thus does not represent logits. Was this intended?\n",
            "  output, from_logits = _get_logits(\n"
          ]
        },
        {
          "name": "stdout",
          "output_type": "stream",
          "text": [
            "92/92 [==============================] - 112s 1s/step - loss: 1.6192 - accuracy: 0.2752 - val_loss: 1.3739 - val_accuracy: 0.3992\n",
            "Epoch 2/10\n",
            "92/92 [==============================] - 106s 1s/step - loss: 1.2420 - accuracy: 0.4806 - val_loss: 1.1212 - val_accuracy: 0.5245\n",
            "Epoch 3/10\n",
            "92/92 [==============================] - 102s 1s/step - loss: 1.0498 - accuracy: 0.5824 - val_loss: 1.0843 - val_accuracy: 0.5545\n",
            "Epoch 4/10\n",
            "92/92 [==============================] - 103s 1s/step - loss: 0.9029 - accuracy: 0.6516 - val_loss: 0.9183 - val_accuracy: 0.6308\n",
            "Epoch 5/10\n",
            "92/92 [==============================] - 112s 1s/step - loss: 0.7121 - accuracy: 0.7228 - val_loss: 0.9336 - val_accuracy: 0.6471\n",
            "Epoch 6/10\n",
            "92/92 [==============================] - 106s 1s/step - loss: 0.5652 - accuracy: 0.7973 - val_loss: 0.9719 - val_accuracy: 0.6526\n",
            "Epoch 7/10\n",
            "92/92 [==============================] - 104s 1s/step - loss: 0.3726 - accuracy: 0.8709 - val_loss: 1.1587 - val_accuracy: 0.6417\n",
            "Epoch 8/10\n",
            "92/92 [==============================] - 106s 1s/step - loss: 0.2579 - accuracy: 0.9104 - val_loss: 1.3330 - val_accuracy: 0.6308\n",
            "Epoch 9/10\n",
            "92/92 [==============================] - 107s 1s/step - loss: 0.1779 - accuracy: 0.9452 - val_loss: 1.3840 - val_accuracy: 0.6471\n",
            "Epoch 10/10\n",
            "92/92 [==============================] - 103s 1s/step - loss: 0.1163 - accuracy: 0.9598 - val_loss: 1.5483 - val_accuracy: 0.6362\n"
          ]
        }
      ],
      "source": [
        "\n",
        "epochs=10\n",
        "history = model.fit(\n",
        "  train_ds,\n",
        "  validation_data=val_ds,\n",
        "  epochs=epochs\n",
        ")"
      ]
    },
    {
      "cell_type": "code",
      "execution_count": null,
      "metadata": {
        "id": "xMGCxPPx5_AY"
      },
      "outputs": [],
      "source": [
        "def preprocess_image(img):\n",
        "    img = tf.image.resize(img, [180, 180])  # Resize the image to the desired shape\n",
        "    img = img.numpy()  # Convert the TensorFlow tensor to a NumPy array\n",
        "    img = img.reshape(-1, 180, 180, 3)  # Reshape for model input\n",
        "    return img"
      ]
    },
    {
      "cell_type": "code",
      "execution_count": null,
      "metadata": {
        "id": "bTNdTV3D6K-2"
      },
      "outputs": [],
      "source": [
        "def predict_image(img):\n",
        "  img_4d=preprocess_image(img)\n",
        "  prediction=model.predict(img_4d)[0]\n",
        "  return {class_names[i]: float(prediction[i]) for i in range(5)}"
      ]
    },
    {
      "cell_type": "code",
      "execution_count": null,
      "metadata": {
        "colab": {
          "background_save": true,
          "base_uri": "https://localhost:8080/",
          "height": 715
        },
        "id": "WFFNo20W55_1",
        "outputId": "0d6e2c9c-9b77-4591-b0e4-d4871cb9a894"
      },
      "outputs": [
        {
          "name": "stdout",
          "output_type": "stream",
          "text": [
            "Setting queue=True in a Colab notebook requires sharing enabled. Setting `share=True` (you can turn this off by setting `share=False` in `launch()` explicitly).\n",
            "\n",
            "Colab notebook detected. This cell will run indefinitely so that you can see errors and logs. To turn off, set debug=False in launch().\n",
            "Running on public URL: https://d2453c1a63907f3d1d.gradio.live\n",
            "\n",
            "This share link expires in 72 hours. For free permanent hosting and GPU upgrades, run `gradio deploy` from Terminal to deploy to Spaces (https://huggingface.co/spaces)\n"
          ]
        },
        {
          "data": {
            "text/html": [
              "<div><iframe src=\"https://d2453c1a63907f3d1d.gradio.live\" width=\"100%\" height=\"500\" allow=\"autoplay; camera; microphone; clipboard-read; clipboard-write;\" frameborder=\"0\" allowfullscreen></iframe></div>"
            ],
            "text/plain": [
              "<IPython.core.display.HTML object>"
            ]
          },
          "metadata": {},
          "output_type": "display_data"
        },
        {
          "name": "stdout",
          "output_type": "stream",
          "text": [
            "1/1 [==============================] - 0s 136ms/step\n",
            "1/1 [==============================] - 0s 41ms/step\n",
            "1/1 [==============================] - 0s 37ms/step\n",
            "1/1 [==============================] - 0s 34ms/step\n"
          ]
        }
      ],
      "source": [
        "import gradio as gr\n",
        "\n",
        "image = gr.Image()  # Specify the shape attribute\n",
        "label = gr.Label(num_top_classes=5)\n",
        "gr.Interface(fn=predict_image, inputs=image, outputs=label).launch(debug='True')"
      ]
    }
  ],
  "metadata": {
    "colab": {
      "provenance": [],
      "authorship_tag": "ABX9TyPIorqJlxZ2cq8wxEVXvWC1",
      "include_colab_link": true
    },
    "kernelspec": {
      "display_name": "Python 3",
      "name": "python3"
    },
    "language_info": {
      "name": "python"
    }
  },
  "nbformat": 4,
  "nbformat_minor": 0
}